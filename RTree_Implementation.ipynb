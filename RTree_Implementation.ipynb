{
  "nbformat": 4,
  "nbformat_minor": 0,
  "metadata": {
    "kernelspec": {
      "name": "python3",
      "display_name": "Python 3"
    },
    "language_info": {
      "codemirror_mode": {
        "name": "ipython",
        "version": 3
      },
      "file_extension": ".py",
      "mimetype": "text/x-python",
      "name": "python",
      "nbconvert_exporter": "python",
      "pygments_lexer": "ipython3",
      "version": "3.7.3"
    },
    "colab": {
      "name": "RTree_Implementation.ipynb",
      "provenance": [],
      "include_colab_link": true
    },
    "accelerator": "GPU"
  },
  "cells": [
    {
      "cell_type": "markdown",
      "metadata": {
        "id": "view-in-github",
        "colab_type": "text"
      },
      "source": [
        "<a href=\"https://colab.research.google.com/github/shivanikukreti/BigDataA2/blob/master/RTree_Implementation.ipynb\" target=\"_parent\"><img src=\"https://colab.research.google.com/assets/colab-badge.svg\" alt=\"Open In Colab\"/></a>"
      ]
    },
    {
      "cell_type": "code",
      "metadata": {
        "id": "WCugEpYRXq6W",
        "colab_type": "code",
        "colab": {}
      },
      "source": [
        "import pandas as pd"
      ],
      "execution_count": 0,
      "outputs": []
    },
    {
      "cell_type": "code",
      "metadata": {
        "id": "zBLqll17h-KR",
        "colab_type": "code",
        "colab": {}
      },
      "source": [
        "url_rangequeries = 'https://raw.githubusercontent.com/shivanikukreti/BigDataA2/master/100_Queries.txt?token=AM4M6LSUZLTSN5XFKF6W4T25TCAAI'\n",
        "url_coordinates = 'https://raw.githubusercontent.com/shivanikukreti/BigDataA2/master/Dataset_for_R-Tree.txt?token=AM4M6LUDSF7AONQWNSMGUHS5TCAFQ'"
      ],
      "execution_count": 0,
      "outputs": []
    },
    {
      "cell_type": "code",
      "metadata": {
        "id": "gkWGQVkIlQm9",
        "colab_type": "code",
        "colab": {}
      },
      "source": [
        "rangequeries = pd.read_csv(url_rangequeries, delim_whitespace = True, header = None, names = ['X1','X2','Y1','Y2'])"
      ],
      "execution_count": 0,
      "outputs": []
    },
    {
      "cell_type": "code",
      "metadata": {
        "scrolled": true,
        "id": "GnyQrrQYXq6f",
        "colab_type": "code",
        "colab": {}
      },
      "source": [
        "coordinates = pd.read_csv(url_coordinates, delim_whitespace = True, names = (\"Count\", \"X-coordinate\", \"Y-coordinate\"))"
      ],
      "execution_count": 0,
      "outputs": []
    },
    {
      "cell_type": "code",
      "metadata": {
        "id": "ImkqmHiZXq6l",
        "colab_type": "code",
        "colab": {}
      },
      "source": [
        "coordinates = coordinates.drop([0])\n",
        "coordinates = coordinates.drop([\"Count\"], axis = 1)"
      ],
      "execution_count": 0,
      "outputs": []
    },
    {
      "cell_type": "code",
      "metadata": {
        "id": "AZgqFfFFXq6u",
        "colab_type": "code",
        "colab": {}
      },
      "source": [
        "B = 3\n",
        "from tqdm import tqdm\n",
        "sequential_result = list()\n",
        "import time\n",
        "def sequential_query (points, querys):\n",
        "    st = time.time()\n",
        "    for ind,query in querys.iterrows(): \n",
        "        re=0\n",
        "        for index,point in points.iterrows():\n",
        "            if query['X1'] <= point['X-coordinate'] <= query['X2'] and query['Y1'] <= point['Y-coordinate'] <= query['Y2']:\n",
        "                re = re + 1\n",
        "        sequential_result.append(re)\n",
        "    end = time.time()\n",
        "    total = end-st\n",
        "    return (sequential_result,total)"
      ],
      "execution_count": 0,
      "outputs": []
    },
    {
      "cell_type": "code",
      "metadata": {
        "id": "Go-010JEXq6v",
        "colab_type": "code",
        "colab": {
          "base_uri": "https://localhost:8080/",
          "height": 34
        },
        "outputId": "680f57dc-917d-4010-fa75-11bdf06469a4"
      },
      "source": [
        "sequential_result,duration = sequential_query(coordinates, rangequeries)\n",
        "duration"
      ],
      "execution_count": 7,
      "outputs": [
        {
          "output_type": "execute_result",
          "data": {
            "text/plain": [
              "990.9451172351837"
            ]
          },
          "metadata": {
            "tags": []
          },
          "execution_count": 7
        }
      ]
    },
    {
      "cell_type": "code",
      "metadata": {
        "id": "UHS0gQ73Xq6z",
        "colab_type": "code",
        "colab": {}
      },
      "source": [
        "class Node(object):\n",
        "    def __init__(self):\n",
        "        self.id = 0\n",
        "        # for internal nodes\n",
        "        self.child_nodes = []\n",
        "        # for leaf nodes\n",
        "        self.data_points = []\n",
        "        self.parent = None\n",
        "        self.MBR = {\n",
        "            'X1': -1,\n",
        "            'Y1': -1,\n",
        "            'X2': -1,\n",
        "            'Y2': -1,\n",
        "        }\n",
        "\n",
        "    def perimeter(self):\n",
        "        # only calculate the half perimeter here\n",
        "        return (self.MBR['X2'] - self.MBR['X1']) + (self.MBR['Y2'] - self.MBR['Y1'])\n",
        "\n",
        "    def is_underflow(self):\n",
        "        if self.is_leaf():\n",
        "            if self.data_points.__len__() < math.ceil(B / 2):\n",
        "                return True\n",
        "            else:\n",
        "                return False\n",
        "        else:\n",
        "            if self.child_nodes.__len__() < math.ceil(B / 2):\n",
        "                return True\n",
        "            else:\n",
        "                return False\n",
        "\n",
        "    def is_overflow(self):\n",
        "        if self.is_leaf():\n",
        "            if self.data_points.__len__() > B:\n",
        "                return True\n",
        "            else:\n",
        "                return False\n",
        "        else:\n",
        "            if self.child_nodes.__len__() > B:\n",
        "                return True\n",
        "            else:\n",
        "                return False\n",
        "\n",
        "    def is_root(self):\n",
        "        if self.parent is None:\n",
        "            return True\n",
        "        else:\n",
        "            return False\n",
        "\n",
        "    def is_leaf(self):\n",
        "        if self.child_nodes.__len__() == 0:\n",
        "            return True\n",
        "        else:\n",
        "            return False\n",
        "\n",
        "class RTree(object):\n",
        "    def __init__(self):\n",
        "        self.root = Node()\n",
        "\n",
        "    def query(self, node, query):\n",
        "        num = 0\n",
        "        if node.is_leaf():\n",
        "            for point in node.data_points:\n",
        "                if self.is_covered(point, query):\n",
        "                    num = num + 1\n",
        "            return num\n",
        "        else:\n",
        "            for child in node.child_nodes:\n",
        "                if self.is_intersect(child, query):\n",
        "                    num = num + self.query(child, query)\n",
        "            return num\n",
        "\n",
        "    def is_intersect(self, node, query):\n",
        "        # if two mbrs are intersected, then:\n",
        "        # |center1_x - center2_x| <= length1 / 2 + length2 / 2 and:\n",
        "        # |center1_y - center2_y| <= width1 / 2 + width2 / 2\n",
        "        center1_x = (node.MBR['X2'] + node.MBR['X1']) / 2\n",
        "        center1_y = (node.MBR['Y2'] + node.MBR['Y1']) / 2\n",
        "        length1 = node.MBR['X2'] - node.MBR['X1']\n",
        "        width1 = node.MBR['Y2'] - node.MBR['Y1']\n",
        "        center2_x = (query['X2'] + query['X1']) / 2\n",
        "        center2_y = (query['Y2'] + query['Y1']) / 2\n",
        "        length2 = query['X2'] - query['X1']\n",
        "        width2 = query['Y2'] - query['Y1']\n",
        "        if abs(center1_x - center2_x) <= length1 / 2 + length2 / 2 and\\\n",
        "                abs(center1_y - center2_y) <= width1 / 2 + width2 / 2:\n",
        "            return True\n",
        "        else:\n",
        "            return False\n",
        "\n",
        "    def is_covered(self, point, query):\n",
        "        X1, X2, Y1, Y2 = query['X1'], query['X2'], query['Y1'], query['Y2']\n",
        "        if X1 <= point['X-coordinate'] <= X2 and Y1 <= point['Y-coordinate'] <= Y2:\n",
        "            return True\n",
        "        else:\n",
        "            return False\n",
        "\n",
        "    def insert(self, u, p):\n",
        "        if u.is_leaf():\n",
        "            self.add_data_point(u, p)\n",
        "            if u.is_overflow():\n",
        "                self.handle_overflow(u)\n",
        "        else:\n",
        "            v = self.choose_subtree(u, p)\n",
        "            self.insert(v, p)\n",
        "            self.update_mbr(v)\n",
        "\n",
        "    # return the child whose MBR requires the minimum increase in perimeter to cover p\n",
        "    def choose_subtree(self, u, p):\n",
        "        if u.is_leaf():\n",
        "            return u\n",
        "        else:\n",
        "            min_increase = sys.maxsize\n",
        "            best_child = None\n",
        "            for child in u.child_nodes:\n",
        "                if min_increase > self.peri_increase(child, p):\n",
        "                    min_increase = self.peri_increase(child, p)\n",
        "                    best_child = child\n",
        "            # return self.choose_subtree(best_child, p)\n",
        "            return best_child\n",
        "\n",
        "    def peri_increase(self, node, p):\n",
        "        # new perimeter - original perimeter = increase of perimeter\n",
        "        origin_mbr = node.MBR\n",
        "        X1, X2, Y1, Y2 = origin_mbr['X1'], origin_mbr['X2'], origin_mbr['Y1'], origin_mbr['Y2']\n",
        "        increase = (max([X1, X2, p['X-coordinate']]) - min([X1, X2, p['X-coordinate']]) +\n",
        "                    max([Y1, Y2, p['Y-coordinate']]) - min([Y1, Y2, p['Y-coordinate']])) - node.perimeter()\n",
        "        return increase\n",
        "\n",
        "    def handle_overflow(self, u):\n",
        "        u1, u2 = self.split(u)\n",
        "        # if u is root, create a new root with s1 and s2 as its' children\n",
        "        if u.is_root():\n",
        "            new_root = Node()\n",
        "            self.add_child(new_root, u1)\n",
        "            self.add_child(new_root, u2)\n",
        "            self.root = new_root\n",
        "            self.update_mbr(new_root)\n",
        "        # if u is not root, delete u, and set s1 and s2 as u's parent's new children\n",
        "        else:\n",
        "            w = u.parent\n",
        "            # copy the information of s1 into u\n",
        "            w.child_nodes.remove(u)\n",
        "            self.add_child(w, u1)\n",
        "            self.add_child(w, u2)\n",
        "            if w.is_overflow():\n",
        "                self.handle_overflow(w)\n",
        "            self.update_mbr(w)\n",
        "\n",
        "    def split(self, u):\n",
        "        # split u into s1 and s2\n",
        "        best_s1 = Node()\n",
        "        best_s2 = Node()\n",
        "        best_perimeter = sys.maxsize\n",
        "        # u is a leaf node\n",
        "        if u.is_leaf():\n",
        "            m = u.data_points.__len__()\n",
        "            # create two different kinds of divides\n",
        "            divides = [sorted(u.data_points, key=lambda data_point: data_point['X-coordinate']),\n",
        "                       sorted(u.data_points, key=lambda data_point: data_point['Y-coordinate'])]\n",
        "            for divide in divides:\n",
        "                for i in range(math.ceil(0.4 * B), m - math.ceil(0.4 * B) + 1):\n",
        "                    s1 = Node()\n",
        "                    s1.data_points = divide[0: i]\n",
        "                    self.update_mbr(s1)\n",
        "                    s2 = Node()\n",
        "                    s2.data_points = divide[i: divide.__len__()]\n",
        "                    self.update_mbr(s2)\n",
        "                    if best_perimeter > s1.perimeter() + s2.perimeter():\n",
        "                        best_perimeter = s1.perimeter() + s2.perimeter()\n",
        "                        best_s1 = s1\n",
        "                        best_s2 = s2\n",
        "\n",
        "        # u is a internal node\n",
        "        else:\n",
        "            # create four different kinds of divides\n",
        "            m = u.child_nodes.__len__()\n",
        "            divides = [sorted(u.child_nodes, key=lambda child_node: child_node.MBR['X1']),\n",
        "                       sorted(u.child_nodes, key=lambda child_node: child_node.MBR['X2']),\n",
        "                       sorted(u.child_nodes, key=lambda child_node: child_node.MBR['Y1']),\n",
        "                       sorted(u.child_nodes, key=lambda child_node: child_node.MBR['Y2'])]\n",
        "            for divide in divides:\n",
        "                for i in range(math.ceil(0.4 * B), m - math.ceil(0.4 * B) + 1):\n",
        "                    s1 = Node()\n",
        "                    s1.child_nodes = divide[0: i]\n",
        "                    self.update_mbr(s1)\n",
        "                    s2 = Node()\n",
        "                    s2.child_nodes = divide[i: divide.__len__()]\n",
        "                    self.update_mbr(s2)\n",
        "                    if best_perimeter > s1.perimeter() + s2.perimeter():\n",
        "                        best_perimeter = s1.perimeter() + s2.perimeter()\n",
        "                        best_s1 = s1\n",
        "                        best_s2 = s2\n",
        "\n",
        "        for child in best_s1.child_nodes:\n",
        "            child.parent = best_s1\n",
        "        for child in best_s2.child_nodes:\n",
        "            child.parent = best_s2\n",
        "\n",
        "        return best_s1, best_s2\n",
        "\n",
        "    def add_child(self, node, child):\n",
        "        node.child_nodes.append(child)\n",
        "        child.parent = node\n",
        "        # self.update_mbr(node)\n",
        "        if child.MBR['X1'] < node.MBR['X1']:\n",
        "            node.MBR['X1'] = child.MBR['X1']\n",
        "        if child.MBR['X2'] > node.MBR['X2']:\n",
        "            node.MBR['X2'] = child.MBR['X2']\n",
        "        if child.MBR['Y1'] < node.MBR['Y1']:\n",
        "            node.MBR['Y1'] = child.MBR['Y1']\n",
        "        if child.MBR['Y2'] > node.MBR['Y2']:\n",
        "            node.MBR['Y2'] = child.MBR['Y2']\n",
        "\n",
        "    def add_data_point(self, node, data_point):\n",
        "        node.data_points.append(data_point)\n",
        "        # self.update_mbr(node)\n",
        "        if data_point['X-coordinate'] < node.MBR['X1']:\n",
        "            node.MBR['X1'] = data_point['X-coordinate']\n",
        "        if data_point['X-coordinate'] > node.MBR['X2']:\n",
        "            node.MBR['X2'] = data_point['X-coordinate']\n",
        "        if data_point['Y-coordinate'] < node.MBR['Y1']:\n",
        "            node.MBR['Y1'] = data_point['Y-coordinate']\n",
        "        if data_point['Y-coordinate'] > node.MBR['Y2']:\n",
        "            node.MBR['Y2'] = data_point['Y-coordinate']\n",
        "\n",
        "    def update_mbr(self, node):\n",
        "        # print(\"update_mbr\")\n",
        "        x_list = []\n",
        "        y_list = []\n",
        "        if node.is_leaf():\n",
        "            x_list = [point['X-coordinate'] for point in node.data_points]\n",
        "            y_list = [point['Y-coordinate'] for point in node.data_points]\n",
        "        else:\n",
        "            x_list = [child.MBR['X1'] for child in node.child_nodes] + [child.MBR['X2'] for child in node.child_nodes]\n",
        "            y_list = [child.MBR['Y1'] for child in node.child_nodes] + [child.MBR['Y2'] for child in node.child_nodes]\n",
        "        new_mbr = {\n",
        "            'X1': min(x_list),\n",
        "            'X2': max(x_list),\n",
        "            'Y1': min(y_list),\n",
        "            'Y2': max(y_list)\n",
        "        }\n",
        "        node.MBR = new_mbr\n",
        "\n"
      ],
      "execution_count": 0,
      "outputs": []
    },
    {
      "cell_type": "code",
      "metadata": {
        "id": "214IEEbhXq61",
        "colab_type": "code",
        "colab": {
          "base_uri": "https://localhost:8080/",
          "height": 68
        },
        "outputId": "434ea720-0081-4419-ee57-578834937933"
      },
      "source": [
        "rtree = RTree()\n",
        "coordinates.iloc[0]"
      ],
      "execution_count": 9,
      "outputs": [
        {
          "output_type": "execute_result",
          "data": {
            "text/plain": [
              "X-coordinate     8224.0\n",
              "Y-coordinate    78217.0\n",
              "Name: 1, dtype: float64"
            ]
          },
          "metadata": {
            "tags": []
          },
          "execution_count": 9
        }
      ]
    },
    {
      "cell_type": "code",
      "metadata": {
        "id": "jyv4tNWeXq63",
        "colab_type": "code",
        "colab": {}
      },
      "source": [
        "import sys\n",
        "import math"
      ],
      "execution_count": 0,
      "outputs": []
    },
    {
      "cell_type": "code",
      "metadata": {
        "id": "8MxFoDBoXq65",
        "colab_type": "code",
        "colab": {}
      },
      "source": [
        "for a,b in coordinates.iterrows():\n",
        "    rtree.insert(rtree.root,b)"
      ],
      "execution_count": 0,
      "outputs": []
    },
    {
      "cell_type": "code",
      "metadata": {
        "id": "rMpgqjWGXq66",
        "colab_type": "code",
        "colab": {}
      },
      "source": [
        "rtree_result = list()\n",
        "stime_2 = time.time()\n",
        "for a1,b1 in rangequeries.iterrows():\n",
        "    rtree_result.append(rtree.query(rtree.root,b1))\n",
        "etime_2 = time.time()\n",
        "time_rtree = etime_2 - stime_2"
      ],
      "execution_count": 0,
      "outputs": []
    },
    {
      "cell_type": "code",
      "metadata": {
        "id": "EwdXqFSWXq67",
        "colab_type": "code",
        "colab": {
          "base_uri": "https://localhost:8080/",
          "height": 34
        },
        "outputId": "9678c837-2e5b-4653-9c45-e7a63cae2064"
      },
      "source": [
        "time_rtree"
      ],
      "execution_count": 25,
      "outputs": [
        {
          "output_type": "execute_result",
          "data": {
            "text/plain": [
              "1.2295372486114502"
            ]
          },
          "metadata": {
            "tags": []
          },
          "execution_count": 25
        }
      ]
    },
    {
      "cell_type": "code",
      "metadata": {
        "id": "oqlyXi0rXq68",
        "colab_type": "code",
        "colab": {
          "base_uri": "https://localhost:8080/",
          "height": 1000
        },
        "outputId": "cdb1fb7d-436a-40e1-c815-063347650291"
      },
      "source": [
        "rtree_result"
      ],
      "execution_count": 26,
      "outputs": [
        {
          "output_type": "execute_result",
          "data": {
            "text/plain": [
              "[15,\n",
              " 13,\n",
              " 9,\n",
              " 8,\n",
              " 8,\n",
              " 8,\n",
              " 12,\n",
              " 10,\n",
              " 9,\n",
              " 11,\n",
              " 11,\n",
              " 6,\n",
              " 6,\n",
              " 10,\n",
              " 6,\n",
              " 8,\n",
              " 10,\n",
              " 10,\n",
              " 11,\n",
              " 7,\n",
              " 11,\n",
              " 9,\n",
              " 4,\n",
              " 8,\n",
              " 11,\n",
              " 12,\n",
              " 7,\n",
              " 13,\n",
              " 9,\n",
              " 9,\n",
              " 8,\n",
              " 7,\n",
              " 9,\n",
              " 9,\n",
              " 10,\n",
              " 13,\n",
              " 9,\n",
              " 6,\n",
              " 8,\n",
              " 13,\n",
              " 12,\n",
              " 8,\n",
              " 8,\n",
              " 11,\n",
              " 11,\n",
              " 10,\n",
              " 8,\n",
              " 8,\n",
              " 12,\n",
              " 5,\n",
              " 7,\n",
              " 4,\n",
              " 6,\n",
              " 13,\n",
              " 9,\n",
              " 9,\n",
              " 7,\n",
              " 10,\n",
              " 16,\n",
              " 4,\n",
              " 11,\n",
              " 6,\n",
              " 6,\n",
              " 16,\n",
              " 14,\n",
              " 8,\n",
              " 11,\n",
              " 10,\n",
              " 7,\n",
              " 16,\n",
              " 13,\n",
              " 11,\n",
              " 10,\n",
              " 7,\n",
              " 10,\n",
              " 9,\n",
              " 10,\n",
              " 11,\n",
              " 6,\n",
              " 11,\n",
              " 10,\n",
              " 8,\n",
              " 9,\n",
              " 10,\n",
              " 20,\n",
              " 8,\n",
              " 8,\n",
              " 12,\n",
              " 7,\n",
              " 9,\n",
              " 5,\n",
              " 14,\n",
              " 11,\n",
              " 5,\n",
              " 6,\n",
              " 11,\n",
              " 11,\n",
              " 15,\n",
              " 8,\n",
              " 14]"
            ]
          },
          "metadata": {
            "tags": []
          },
          "execution_count": 26
        }
      ]
    },
    {
      "cell_type": "code",
      "metadata": {
        "id": "hyODmGecXq6_",
        "colab_type": "code",
        "colab": {}
      },
      "source": [
        ""
      ],
      "execution_count": 0,
      "outputs": []
    }
  ]
}