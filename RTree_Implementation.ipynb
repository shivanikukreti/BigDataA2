{
  "nbformat": 4,
  "nbformat_minor": 0,
  "metadata": {
    "accelerator": "GPU",
    "colab": {
      "name": "RTree_Implementation.ipynb",
      "provenance": [],
      "collapsed_sections": [],
      "include_colab_link": true
    },
    "kernelspec": {
      "display_name": "Python 3",
      "language": "python",
      "name": "python3"
    },
    "language_info": {
      "codemirror_mode": {
        "name": "ipython",
        "version": 3
      },
      "file_extension": ".py",
      "mimetype": "text/x-python",
      "name": "python",
      "nbconvert_exporter": "python",
      "pygments_lexer": "ipython3",
      "version": "3.7.1"
    },
    "toc": {
      "base_numbering": 1,
      "nav_menu": {},
      "number_sections": true,
      "sideBar": true,
      "skip_h1_title": false,
      "title_cell": "Table of Contents",
      "title_sidebar": "Contents",
      "toc_cell": false,
      "toc_position": {},
      "toc_section_display": true,
      "toc_window_display": false
    }
  },
  "cells": [
    {
      "cell_type": "markdown",
      "metadata": {
        "id": "view-in-github",
        "colab_type": "text"
      },
      "source": [
        "<a href=\"https://colab.research.google.com/github/shivanikukreti/BigDataA2/blob/master/RTree_Implementation.ipynb\" target=\"_parent\"><img src=\"https://colab.research.google.com/assets/colab-badge.svg\" alt=\"Open In Colab\"/></a>"
      ]
    },
    {
      "cell_type": "code",
      "metadata": {
        "colab_type": "code",
        "id": "WCugEpYRXq6W",
        "colab": {}
      },
      "source": [
        "import time\n",
        "import sys\n",
        "import math\n",
        "import pandas as pd\n",
        "from tqdm import tqdm"
      ],
      "execution_count": 0,
      "outputs": []
    },
    {
      "cell_type": "code",
      "metadata": {
        "colab_type": "code",
        "id": "zBLqll17h-KR",
        "colab": {}
      },
      "source": [
        "url_rangequeries = 'https://raw.githubusercontent.com/shivanikukreti/BigDataA2/master/100_Queries.txt?token=AM4M6LSUZLTSN5XFKF6W4T25TCAAI'\n",
        "url_coordinates = 'https://raw.githubusercontent.com/shivanikukreti/BigDataA2/master/Dataset_for_R-Tree.txt?token=AM4M6LUDSF7AONQWNSMGUHS5TCAFQ'"
      ],
      "execution_count": 0,
      "outputs": []
    },
    {
      "cell_type": "code",
      "metadata": {
        "colab_type": "code",
        "id": "gkWGQVkIlQm9",
        "colab": {}
      },
      "source": [
        "rangequeries = pd.read_csv(url_rangequeries,\n",
        "                           delimiter=\" \",\n",
        "                           header=None,\n",
        "                           names=['X1', 'X2', 'Y1', 'Y2'])"
      ],
      "execution_count": 0,
      "outputs": []
    },
    {
      "cell_type": "code",
      "metadata": {
        "id": "37fPv4KMzetb",
        "colab_type": "code",
        "outputId": "35ffe305-5627-49cb-cf56-829b9f5eb1d1",
        "colab": {
          "base_uri": "https://localhost:8080/",
          "height": 204
        }
      },
      "source": [
        "rangequeries.head()"
      ],
      "execution_count": 0,
      "outputs": [
        {
          "output_type": "execute_result",
          "data": {
            "text/html": [
              "<div>\n",
              "<style scoped>\n",
              "    .dataframe tbody tr th:only-of-type {\n",
              "        vertical-align: middle;\n",
              "    }\n",
              "\n",
              "    .dataframe tbody tr th {\n",
              "        vertical-align: top;\n",
              "    }\n",
              "\n",
              "    .dataframe thead th {\n",
              "        text-align: right;\n",
              "    }\n",
              "</style>\n",
              "<table border=\"1\" class=\"dataframe\">\n",
              "  <thead>\n",
              "    <tr style=\"text-align: right;\">\n",
              "      <th></th>\n",
              "      <th>X1</th>\n",
              "      <th>X2</th>\n",
              "      <th>Y1</th>\n",
              "      <th>Y2</th>\n",
              "    </tr>\n",
              "  </thead>\n",
              "  <tbody>\n",
              "    <tr>\n",
              "      <th>0</th>\n",
              "      <td>17840</td>\n",
              "      <td>18840</td>\n",
              "      <td>13971</td>\n",
              "      <td>14971</td>\n",
              "    </tr>\n",
              "    <tr>\n",
              "      <th>1</th>\n",
              "      <td>33451</td>\n",
              "      <td>34451</td>\n",
              "      <td>29693</td>\n",
              "      <td>30693</td>\n",
              "    </tr>\n",
              "    <tr>\n",
              "      <th>2</th>\n",
              "      <td>791</td>\n",
              "      <td>1791</td>\n",
              "      <td>2515</td>\n",
              "      <td>3515</td>\n",
              "    </tr>\n",
              "    <tr>\n",
              "      <th>3</th>\n",
              "      <td>81921</td>\n",
              "      <td>82921</td>\n",
              "      <td>94973</td>\n",
              "      <td>95973</td>\n",
              "    </tr>\n",
              "    <tr>\n",
              "      <th>4</th>\n",
              "      <td>75678</td>\n",
              "      <td>76678</td>\n",
              "      <td>53545</td>\n",
              "      <td>54545</td>\n",
              "    </tr>\n",
              "  </tbody>\n",
              "</table>\n",
              "</div>"
            ],
            "text/plain": [
              "      X1     X2     Y1     Y2\n",
              "0  17840  18840  13971  14971\n",
              "1  33451  34451  29693  30693\n",
              "2    791   1791   2515   3515\n",
              "3  81921  82921  94973  95973\n",
              "4  75678  76678  53545  54545"
            ]
          },
          "metadata": {
            "tags": []
          },
          "execution_count": 4
        }
      ]
    },
    {
      "cell_type": "code",
      "metadata": {
        "colab_type": "code",
        "id": "GnyQrrQYXq6f",
        "scrolled": true,
        "colab": {}
      },
      "source": [
        "coordinates = pd.read_csv(url_coordinates,\n",
        "                          delimiter=\" \",\n",
        "                          skiprows=1, usecols=[1,2],\n",
        "                          names=(\"X-coordinate\", \"Y-coordinate\"))"
      ],
      "execution_count": 0,
      "outputs": []
    },
    {
      "cell_type": "code",
      "metadata": {
        "id": "8Zzfw7PPzetg",
        "colab_type": "code",
        "outputId": "73a3cf9b-6b46-41a6-8b01-459a9d3a2778",
        "colab": {
          "base_uri": "https://localhost:8080/",
          "height": 204
        }
      },
      "source": [
        "coordinates.head()"
      ],
      "execution_count": 0,
      "outputs": [
        {
          "output_type": "execute_result",
          "data": {
            "text/html": [
              "<div>\n",
              "<style scoped>\n",
              "    .dataframe tbody tr th:only-of-type {\n",
              "        vertical-align: middle;\n",
              "    }\n",
              "\n",
              "    .dataframe tbody tr th {\n",
              "        vertical-align: top;\n",
              "    }\n",
              "\n",
              "    .dataframe thead th {\n",
              "        text-align: right;\n",
              "    }\n",
              "</style>\n",
              "<table border=\"1\" class=\"dataframe\">\n",
              "  <thead>\n",
              "    <tr style=\"text-align: right;\">\n",
              "      <th></th>\n",
              "      <th>X-coordinate</th>\n",
              "      <th>Y-coordinate</th>\n",
              "    </tr>\n",
              "  </thead>\n",
              "  <tbody>\n",
              "    <tr>\n",
              "      <th>0</th>\n",
              "      <td>8224</td>\n",
              "      <td>78217</td>\n",
              "    </tr>\n",
              "    <tr>\n",
              "      <th>1</th>\n",
              "      <td>68940</td>\n",
              "      <td>46095</td>\n",
              "    </tr>\n",
              "    <tr>\n",
              "      <th>2</th>\n",
              "      <td>92607</td>\n",
              "      <td>82845</td>\n",
              "    </tr>\n",
              "    <tr>\n",
              "      <th>3</th>\n",
              "      <td>59</td>\n",
              "      <td>99459</td>\n",
              "    </tr>\n",
              "    <tr>\n",
              "      <th>4</th>\n",
              "      <td>14140</td>\n",
              "      <td>65521</td>\n",
              "    </tr>\n",
              "  </tbody>\n",
              "</table>\n",
              "</div>"
            ],
            "text/plain": [
              "   X-coordinate  Y-coordinate\n",
              "0          8224         78217\n",
              "1         68940         46095\n",
              "2         92607         82845\n",
              "3            59         99459\n",
              "4         14140         65521"
            ]
          },
          "metadata": {
            "tags": []
          },
          "execution_count": 6
        }
      ]
    },
    {
      "cell_type": "code",
      "metadata": {
        "id": "gBs4yTrXzetk",
        "colab_type": "code",
        "outputId": "64e4f3a7-7c35-4b7a-8972-641179ae596a",
        "colab": {
          "base_uri": "https://localhost:8080/",
          "height": 34
        }
      },
      "source": [
        "coordinates.shape"
      ],
      "execution_count": 0,
      "outputs": [
        {
          "output_type": "execute_result",
          "data": {
            "text/plain": [
              "(100000, 2)"
            ]
          },
          "metadata": {
            "tags": []
          },
          "execution_count": 7
        }
      ]
    },
    {
      "cell_type": "code",
      "metadata": {
        "colab_type": "code",
        "id": "AZgqFfFFXq6u",
        "colab": {}
      },
      "source": [
        "B = 3\n",
        "sequential_result = []\n",
        "\n",
        "def sequential_query(coordinates, rangequeries):\n",
        "    start = time.time()\n",
        "    for idx, query in rangequeries.iterrows():\n",
        "        rslt = 0\n",
        "        for index, point in coordinates.iterrows():\n",
        "            if query['X1'] <= point['X-coordinate'] <= query['X2'] and query['Y1'] <= point['Y-coordinate'] <= query['Y2']:\n",
        "                rslt += 1\n",
        "        sequential_result.append(rslt)\n",
        "    end = time.time()\n",
        "    total_time = end-start\n",
        "    return sequential_result, total_time"
      ],
      "execution_count": 0,
      "outputs": []
    },
    {
      "cell_type": "code",
      "metadata": {
        "colab_type": "code",
        "id": "Go-010JEXq6v",
        "outputId": "f752ad81-7784-4c33-b061-8f9bd0399041",
        "colab": {
          "base_uri": "https://localhost:8080/",
          "height": 34
        }
      },
      "source": [
        "sequential_result,duration = sequential_query(coordinates, rangequeries)\n",
        "duration # the time of answering queries by reading the entire dataset sequentially"
      ],
      "execution_count": 0,
      "outputs": [
        {
          "output_type": "execute_result",
          "data": {
            "text/plain": [
              "1182.0544264316559"
            ]
          },
          "metadata": {
            "tags": []
          },
          "execution_count": 11
        }
      ]
    },
    {
      "cell_type": "code",
      "metadata": {
        "id": "s5QSmckkH4gs",
        "colab_type": "code",
        "colab": {
          "base_uri": "https://localhost:8080/",
          "height": 34
        },
        "outputId": "3a02ccc7-89c3-4bb7-b282-721db45c52a0"
      },
      "source": [
        "# average execution time for sequential results\n",
        "avg_seq = duration/100\n",
        "avg_seq"
      ],
      "execution_count": 24,
      "outputs": [
        {
          "output_type": "execute_result",
          "data": {
            "text/plain": [
              "11.82054426431656"
            ]
          },
          "metadata": {
            "tags": []
          },
          "execution_count": 24
        }
      ]
    },
    {
      "cell_type": "code",
      "metadata": {
        "colab_type": "code",
        "id": "UHS0gQ73Xq6z",
        "colab": {}
      },
      "source": [
        "# building R-tree referencing the code from Week 5 Workshop\n",
        "\n",
        "class Node(object):\n",
        "    def __init__(self):\n",
        "        self.id = 0\n",
        "        # for internal nodes\n",
        "        self.child_nodes = []\n",
        "        # for leaf nodes\n",
        "        self.data_points = []\n",
        "        self.parent = None\n",
        "        self.MBR = {\n",
        "            'X1': -1,\n",
        "            'Y1': -1,\n",
        "            'X2': -1,\n",
        "            'Y2': -1,\n",
        "        }\n",
        "\n",
        "    def perimeter(self):\n",
        "        # calculating half the perimeter here\n",
        "        return (self.MBR['X2'] - self.MBR['X1']) + (self.MBR['Y2'] - self.MBR['Y1'])\n",
        "\n",
        "    def is_underflow(self):\n",
        "        if self.is_leaf():\n",
        "            if self.data_points.__len__() < math.ceil(B / 2):\n",
        "                return True\n",
        "            else:\n",
        "                return False\n",
        "        else:\n",
        "            if self.child_nodes.__len__() < math.ceil(B / 2):\n",
        "                return True\n",
        "            else:\n",
        "                return False\n",
        "\n",
        "    def is_overflow(self):\n",
        "        if self.is_leaf():\n",
        "            if self.data_points.__len__() > B:\n",
        "                return True\n",
        "            else:\n",
        "                return False\n",
        "        else:\n",
        "            if self.child_nodes.__len__() > B:\n",
        "                return True\n",
        "            else:\n",
        "                return False\n",
        "\n",
        "    def is_root(self):\n",
        "        if self.parent is None:\n",
        "            return True\n",
        "        else:\n",
        "            return False\n",
        "\n",
        "    def is_leaf(self):\n",
        "        if self.child_nodes.__len__() == 0:\n",
        "            return True\n",
        "        else:\n",
        "            return False\n",
        "\n",
        "class RTree(object):\n",
        "    def __init__(self):\n",
        "        self.root = Node()\n",
        "\n",
        "    def query(self, node, query):\n",
        "        num = 0\n",
        "        if node.is_leaf():\n",
        "            for point in node.data_points:\n",
        "                if self.is_covered(point, query):\n",
        "                    num = num + 1\n",
        "            return num\n",
        "        else:\n",
        "            for child in node.child_nodes:\n",
        "                if self.is_intersect(child, query):\n",
        "                    num = num + self.query(child, query)\n",
        "            return num\n",
        "\n",
        "    def is_intersect(self, node, query):\n",
        "        # if two mbrs are intersected, then:\n",
        "        # |center1_x - center2_x| <= length1 / 2 + length2 / 2 and:\n",
        "        # |center1_y - center2_y| <= width1 / 2 + width2 / 2\n",
        "        center1_x = (node.MBR['X2'] + node.MBR['X1']) / 2\n",
        "        center1_y = (node.MBR['Y2'] + node.MBR['Y1']) / 2\n",
        "        length1 = node.MBR['X2'] - node.MBR['X1']\n",
        "        width1 = node.MBR['Y2'] - node.MBR['Y1']\n",
        "        center2_x = (query['X2'] + query['X1']) / 2\n",
        "        center2_y = (query['Y2'] + query['Y1']) / 2\n",
        "        length2 = query['X2'] - query['X1']\n",
        "        width2 = query['Y2'] - query['Y1']\n",
        "        if abs(center1_x - center2_x) <= length1 / 2 + length2 / 2 and\\\n",
        "                abs(center1_y - center2_y) <= width1 / 2 + width2 / 2:\n",
        "            return True\n",
        "        else:\n",
        "            return False\n",
        "\n",
        "    def is_covered(self, point, query):\n",
        "        X1, X2, Y1, Y2 = query['X1'], query['X2'], query['Y1'], query['Y2']\n",
        "        if X1 <= point['X-coordinate'] <= X2 and Y1 <= point['Y-coordinate'] <= Y2:\n",
        "            return True\n",
        "        else:\n",
        "            return False\n",
        "\n",
        "    def insert(self, u, p):\n",
        "        if u.is_leaf():\n",
        "            self.add_data_point(u, p)\n",
        "            if u.is_overflow():\n",
        "                self.handle_overflow(u)\n",
        "        else:\n",
        "            v = self.choose_subtree(u, p)\n",
        "            self.insert(v, p)\n",
        "            self.update_mbr(v)\n",
        "\n",
        "    # return the child whose MBR requires the minimum increase in perimeter to cover p\n",
        "    def choose_subtree(self, u, p):\n",
        "        if u.is_leaf():\n",
        "            return u\n",
        "        else:\n",
        "            min_increase = sys.maxsize\n",
        "            best_child = None\n",
        "            for child in u.child_nodes:\n",
        "                if min_increase > self.peri_increase(child, p):\n",
        "                    min_increase = self.peri_increase(child, p)\n",
        "                    best_child = child\n",
        "            # return self.choose_subtree(best_child, p)\n",
        "            return best_child\n",
        "\n",
        "    def peri_increase(self, node, p):\n",
        "        # new perimeter - original perimeter = increase of perimeter\n",
        "        origin_mbr = node.MBR\n",
        "        X1, X2, Y1, Y2 = origin_mbr['X1'], origin_mbr['X2'], origin_mbr['Y1'], origin_mbr['Y2']\n",
        "        increase = (max([X1, X2, p['X-coordinate']]) - min([X1, X2, p['X-coordinate']]) +\n",
        "                    max([Y1, Y2, p['Y-coordinate']]) - min([Y1, Y2, p['Y-coordinate']])) - node.perimeter()\n",
        "        return increase\n",
        "\n",
        "    def handle_overflow(self, u):\n",
        "        u1, u2 = self.split(u)\n",
        "        # if u is root, create a new root with s1 and s2 as its' children\n",
        "        if u.is_root():\n",
        "            new_root = Node()\n",
        "            self.add_child(new_root, u1)\n",
        "            self.add_child(new_root, u2)\n",
        "            self.root = new_root\n",
        "            self.update_mbr(new_root)\n",
        "        # if u is not root, delete u, and set s1 and s2 as u's parent's new children\n",
        "        else:\n",
        "            w = u.parent\n",
        "            # copy the information of s1 into u\n",
        "            w.child_nodes.remove(u)\n",
        "            self.add_child(w, u1)\n",
        "            self.add_child(w, u2)\n",
        "            if w.is_overflow():\n",
        "                self.handle_overflow(w)\n",
        "            self.update_mbr(w)\n",
        "\n",
        "    def split(self, u):\n",
        "        # split u into s1 and s2\n",
        "        best_s1 = Node()\n",
        "        best_s2 = Node()\n",
        "        best_perimeter = sys.maxsize\n",
        "        # u is a leaf node\n",
        "        if u.is_leaf():\n",
        "            m = u.data_points.__len__()\n",
        "            # create two different kinds of divides\n",
        "            divides = [sorted(u.data_points, key=lambda data_point: data_point['X-coordinate']),\n",
        "                       sorted(u.data_points, key=lambda data_point: data_point['Y-coordinate'])]\n",
        "            for divide in divides:\n",
        "                for i in range(math.ceil(0.4 * B), m - math.ceil(0.4 * B) + 1):\n",
        "                    s1 = Node()\n",
        "                    s1.data_points = divide[0: i]\n",
        "                    self.update_mbr(s1)\n",
        "                    s2 = Node()\n",
        "                    s2.data_points = divide[i: divide.__len__()]\n",
        "                    self.update_mbr(s2)\n",
        "                    if best_perimeter > s1.perimeter() + s2.perimeter():\n",
        "                        best_perimeter = s1.perimeter() + s2.perimeter()\n",
        "                        best_s1 = s1\n",
        "                        best_s2 = s2\n",
        "\n",
        "        # u is a internal node\n",
        "        else:\n",
        "            # create four different kinds of divides\n",
        "            m = u.child_nodes.__len__()\n",
        "            divides = [sorted(u.child_nodes, key=lambda child_node: child_node.MBR['X1']),\n",
        "                       sorted(u.child_nodes, key=lambda child_node: child_node.MBR['X2']),\n",
        "                       sorted(u.child_nodes, key=lambda child_node: child_node.MBR['Y1']),\n",
        "                       sorted(u.child_nodes, key=lambda child_node: child_node.MBR['Y2'])]\n",
        "            for divide in divides:\n",
        "                for i in range(math.ceil(0.4 * B), m - math.ceil(0.4 * B) + 1):\n",
        "                    s1 = Node()\n",
        "                    s1.child_nodes = divide[0: i]\n",
        "                    self.update_mbr(s1)\n",
        "                    s2 = Node()\n",
        "                    s2.child_nodes = divide[i: divide.__len__()]\n",
        "                    self.update_mbr(s2)\n",
        "                    if best_perimeter > s1.perimeter() + s2.perimeter():\n",
        "                        best_perimeter = s1.perimeter() + s2.perimeter()\n",
        "                        best_s1 = s1\n",
        "                        best_s2 = s2\n",
        "\n",
        "        for child in best_s1.child_nodes:\n",
        "            child.parent = best_s1\n",
        "        for child in best_s2.child_nodes:\n",
        "            child.parent = best_s2\n",
        "\n",
        "        return best_s1, best_s2\n",
        "\n",
        "    def add_child(self, node, child):\n",
        "        node.child_nodes.append(child)\n",
        "        child.parent = node\n",
        "        # self.update_mbr(node)\n",
        "        if child.MBR['X1'] < node.MBR['X1']:\n",
        "            node.MBR['X1'] = child.MBR['X1']\n",
        "        if child.MBR['X2'] > node.MBR['X2']:\n",
        "            node.MBR['X2'] = child.MBR['X2']\n",
        "        if child.MBR['Y1'] < node.MBR['Y1']:\n",
        "            node.MBR['Y1'] = child.MBR['Y1']\n",
        "        if child.MBR['Y2'] > node.MBR['Y2']:\n",
        "            node.MBR['Y2'] = child.MBR['Y2']\n",
        "\n",
        "    def add_data_point(self, node, data_point):\n",
        "        node.data_points.append(data_point)\n",
        "        # self.update_mbr(node)\n",
        "        if data_point['X-coordinate'] < node.MBR['X1']:\n",
        "            node.MBR['X1'] = data_point['X-coordinate']\n",
        "        if data_point['X-coordinate'] > node.MBR['X2']:\n",
        "            node.MBR['X2'] = data_point['X-coordinate']\n",
        "        if data_point['Y-coordinate'] < node.MBR['Y1']:\n",
        "            node.MBR['Y1'] = data_point['Y-coordinate']\n",
        "        if data_point['Y-coordinate'] > node.MBR['Y2']:\n",
        "            node.MBR['Y2'] = data_point['Y-coordinate']\n",
        "\n",
        "    def update_mbr(self, node):\n",
        "        # print(\"update_mbr\")\n",
        "        x_list = []\n",
        "        y_list = []\n",
        "        if node.is_leaf():\n",
        "            x_list = [point['X-coordinate'] for point in node.data_points]\n",
        "            y_list = [point['Y-coordinate'] for point in node.data_points]\n",
        "        else:\n",
        "            x_list = [child.MBR['X1'] for child in node.child_nodes] + [child.MBR['X2'] for child in node.child_nodes]\n",
        "            y_list = [child.MBR['Y1'] for child in node.child_nodes] + [child.MBR['Y2'] for child in node.child_nodes]\n",
        "        new_mbr = {\n",
        "            'X1': min(x_list),\n",
        "            'X2': max(x_list),\n",
        "            'Y1': min(y_list),\n",
        "            'Y2': max(y_list)\n",
        "        }\n",
        "        node.MBR = new_mbr"
      ],
      "execution_count": 0,
      "outputs": []
    },
    {
      "cell_type": "code",
      "metadata": {
        "colab_type": "code",
        "id": "214IEEbhXq61",
        "outputId": "3de657ff-6bdf-4246-82ee-ce2e0a4877a3",
        "scrolled": true,
        "colab": {
          "base_uri": "https://localhost:8080/",
          "height": 68
        }
      },
      "source": [
        "rtree = RTree()\n",
        "coordinates.iloc[0]"
      ],
      "execution_count": 0,
      "outputs": [
        {
          "output_type": "execute_result",
          "data": {
            "text/plain": [
              "X-coordinate     8224\n",
              "Y-coordinate    78217\n",
              "Name: 0, dtype: int64"
            ]
          },
          "metadata": {
            "tags": []
          },
          "execution_count": 14
        }
      ]
    },
    {
      "cell_type": "code",
      "metadata": {
        "colab_type": "code",
        "id": "8MxFoDBoXq65",
        "colab": {}
      },
      "source": [
        "for _,pt in coordinates.iterrows():\n",
        "    rtree.insert(rtree.root,pt)"
      ],
      "execution_count": 0,
      "outputs": []
    },
    {
      "cell_type": "code",
      "metadata": {
        "colab_type": "code",
        "id": "rMpgqjWGXq66",
        "colab": {}
      },
      "source": [
        "rtree_result = list()\n",
        "start = time.time()\n",
        "for _,o in rangequeries.iterrows():\n",
        "    rtree_result.append(rtree.query(rtree.root,o))\n",
        "end = time.time()\n",
        "total_time = end-start"
      ],
      "execution_count": 0,
      "outputs": []
    },
    {
      "cell_type": "code",
      "metadata": {
        "colab_type": "code",
        "id": "EwdXqFSWXq67",
        "outputId": "ab0f8397-cf8d-4a90-d6fe-e2eb7f2b0b4f",
        "colab": {
          "base_uri": "https://localhost:8080/",
          "height": 34
        }
      },
      "source": [
        "# total running time of answering all the 100 queries\n",
        "total_time"
      ],
      "execution_count": 0,
      "outputs": [
        {
          "output_type": "execute_result",
          "data": {
            "text/plain": [
              "1.2337133884429932"
            ]
          },
          "metadata": {
            "tags": []
          },
          "execution_count": 17
        }
      ]
    },
    {
      "cell_type": "code",
      "metadata": {
        "id": "npWGYwYoGPgV",
        "colab_type": "code",
        "colab": {
          "base_uri": "https://localhost:8080/",
          "height": 34
        },
        "outputId": "6e2a2ed0-5e62-4dcf-8554-63596fc31522"
      },
      "source": [
        "# average time of each query\n",
        "avg_time = total_time/100\n",
        "avg_time"
      ],
      "execution_count": 20,
      "outputs": [
        {
          "output_type": "execute_result",
          "data": {
            "text/plain": [
              "0.012337133884429932"
            ]
          },
          "metadata": {
            "tags": []
          },
          "execution_count": 20
        }
      ]
    },
    {
      "cell_type": "code",
      "metadata": {
        "colab_type": "code",
        "id": "oqlyXi0rXq68",
        "outputId": "66c89d11-e2a5-485d-af04-f946590fe313",
        "colab": {
          "base_uri": "https://localhost:8080/",
          "height": 1000
        }
      },
      "source": [
        "# the number of points returned by each query-note\n",
        "len(rtree_result), rtree_result[:]"
      ],
      "execution_count": 21,
      "outputs": [
        {
          "output_type": "execute_result",
          "data": {
            "text/plain": [
              "(100,\n",
              " [15,\n",
              "  13,\n",
              "  9,\n",
              "  8,\n",
              "  8,\n",
              "  8,\n",
              "  12,\n",
              "  10,\n",
              "  9,\n",
              "  11,\n",
              "  11,\n",
              "  6,\n",
              "  6,\n",
              "  10,\n",
              "  6,\n",
              "  8,\n",
              "  10,\n",
              "  10,\n",
              "  11,\n",
              "  7,\n",
              "  11,\n",
              "  9,\n",
              "  4,\n",
              "  8,\n",
              "  11,\n",
              "  12,\n",
              "  7,\n",
              "  13,\n",
              "  9,\n",
              "  9,\n",
              "  8,\n",
              "  7,\n",
              "  9,\n",
              "  9,\n",
              "  10,\n",
              "  13,\n",
              "  9,\n",
              "  6,\n",
              "  8,\n",
              "  13,\n",
              "  12,\n",
              "  8,\n",
              "  8,\n",
              "  11,\n",
              "  11,\n",
              "  10,\n",
              "  8,\n",
              "  8,\n",
              "  12,\n",
              "  5,\n",
              "  7,\n",
              "  4,\n",
              "  6,\n",
              "  13,\n",
              "  9,\n",
              "  9,\n",
              "  7,\n",
              "  10,\n",
              "  16,\n",
              "  4,\n",
              "  11,\n",
              "  6,\n",
              "  6,\n",
              "  16,\n",
              "  14,\n",
              "  8,\n",
              "  11,\n",
              "  10,\n",
              "  7,\n",
              "  16,\n",
              "  13,\n",
              "  11,\n",
              "  10,\n",
              "  7,\n",
              "  10,\n",
              "  9,\n",
              "  10,\n",
              "  11,\n",
              "  6,\n",
              "  11,\n",
              "  10,\n",
              "  8,\n",
              "  9,\n",
              "  10,\n",
              "  20,\n",
              "  8,\n",
              "  8,\n",
              "  12,\n",
              "  7,\n",
              "  9,\n",
              "  5,\n",
              "  14,\n",
              "  11,\n",
              "  5,\n",
              "  6,\n",
              "  11,\n",
              "  11,\n",
              "  15,\n",
              "  8,\n",
              "  14])"
            ]
          },
          "metadata": {
            "tags": []
          },
          "execution_count": 21
        }
      ]
    }
  ]
}